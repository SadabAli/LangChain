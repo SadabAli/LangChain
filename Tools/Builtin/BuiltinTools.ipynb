{
 "cells": [
  {
   "cell_type": "markdown",
   "id": "b082a529",
   "metadata": {},
   "source": [
    "DuckDuckGO Search"
   ]
  },
  {
   "cell_type": "code",
   "execution_count": 1,
   "id": "ac506509",
   "metadata": {},
   "outputs": [
    {
     "name": "stderr",
     "output_type": "stream",
     "text": [
      "c:\\Users\\alisa\\OneDrive\\Desktop\\LangChain\\venv\\Lib\\site-packages\\langchain_community\\utilities\\duckduckgo_search.py:63: RuntimeWarning: This package (`duckduckgo_search`) has been renamed to `ddgs`! Use `pip install ddgs` instead.\n",
      "  with DDGS() as ddgs:\n"
     ]
    },
    {
     "name": "stdout",
     "output_type": "stream",
     "text": [
      "1 day ago · From India refuting sanctions threats by the US and NATO to a thaw in the country’s ties with China, and Russia brushing off EU sanctions against its energy industry to Hamas claiming … 3 days ago · Today's News Online: Read the Latest News Updates online related to India, World and US business and economy. Also, get the breaking news on politics, auto, technology, mutual … Jul 8, 2025 · Get the latest breaking news from India covering politics, economy, social issues, technology, sports, and more. Stay updated with in-depth analysis and top headlines from across … Stay informed with the latest top headlines and breaking news from India and worldwide. Get live updates on the biggest stories in politics, sports, business, and entertainment. Read... 3 days ago · Stay informed with the latest national news from India. Get today’s top headlines, breaking news, key developments, business updates, and trending national stories—live and in …\n"
     ]
    }
   ],
   "source": [
    "from langchain_community.tools import DuckDuckGoSearchRun\n",
    "\n",
    "search_tool = DuckDuckGoSearchRun()\n",
    "\n",
    "results = search_tool.invoke('top news in india today')\n",
    "\n",
    "print(results)"
   ]
  },
  {
   "cell_type": "code",
   "execution_count": null,
   "id": "8d1e6253",
   "metadata": {},
   "outputs": [],
   "source": []
  }
 ],
 "metadata": {
  "kernelspec": {
   "display_name": "venv",
   "language": "python",
   "name": "python3"
  },
  "language_info": {
   "codemirror_mode": {
    "name": "ipython",
    "version": 3
   },
   "file_extension": ".py",
   "mimetype": "text/x-python",
   "name": "python",
   "nbconvert_exporter": "python",
   "pygments_lexer": "ipython3",
   "version": "3.11.5"
  }
 },
 "nbformat": 4,
 "nbformat_minor": 5
}
